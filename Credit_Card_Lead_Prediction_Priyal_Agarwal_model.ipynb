{
  "nbformat": 4,
  "nbformat_minor": 0,
  "metadata": {
    "kernelspec": {
      "language": "python",
      "display_name": "Python 3",
      "name": "python3"
    },
    "language_info": {
      "name": "python",
      "version": "3.7.10",
      "mimetype": "text/x-python",
      "codemirror_mode": {
        "name": "ipython",
        "version": 3
      },
      "pygments_lexer": "ipython3",
      "nbconvert_exporter": "python",
      "file_extension": ".py"
    },
    "colab": {
      "name": "Credit Card Lead Prediction_Priyal_Agarwal_model.ipynb",
      "provenance": [],
      "collapsed_sections": []
    }
  },
  "cells": [
    {
      "cell_type": "code",
      "metadata": {
        "_uuid": "8f2839f25d086af736a60e9eeb907d3b93b6e0e5",
        "_cell_guid": "b1076dfc-b9ad-4769-8c92-a6c4dae69d19",
        "execution": {
          "iopub.status.busy": "2021-05-28T19:06:04.366363Z",
          "iopub.execute_input": "2021-05-28T19:06:04.366770Z",
          "iopub.status.idle": "2021-05-28T19:06:04.623946Z",
          "shell.execute_reply.started": "2021-05-28T19:06:04.366683Z",
          "shell.execute_reply": "2021-05-28T19:06:04.622711Z"
        },
        "trusted": true,
        "id": "ruXPS-bzH40D"
      },
      "source": [
        "# This Python 3 environment comes with many helpful analytics libraries installed\n",
        "# It is defined by the kaggle/python Docker image: https://github.com/kaggle/docker-python\n",
        "# For example, here's several helpful packages to load\n",
        "\n",
        "import numpy as np # linear algebra\n",
        "import pandas as pd # data processing, CSV file I/O (e.g. pd.read_csv)\n",
        "import matplotlib.pyplot as plt \n",
        "import seaborn as sns\n",
        "\n",
        "# Input data files are available in the read-only \"../input/\" directory\n",
        "# For example, running this (by clicking run or pressing Shift+Enter) will list all files under the input directory\n",
        "\n",
        "import os\n",
        "for dirname, _, filenames in os.walk('/kaggle/input'):\n",
        "    for filename in filenames:\n",
        "        print(os.path.join(dirname, filename))\n",
        "\n",
        "# You can write up to 20GB to the current directory (/kaggle/working/) that gets preserved as output when you create a version using \"Save & Run All\" \n",
        "# You can also write temporary files to /kaggle/temp/, but they won't be saved outside of the current session"
      ],
      "execution_count": null,
      "outputs": []
    },
    {
      "cell_type": "code",
      "metadata": {
        "execution": {
          "iopub.status.busy": "2021-05-28T19:06:04.625838Z",
          "iopub.execute_input": "2021-05-28T19:06:04.626143Z",
          "iopub.status.idle": "2021-05-28T19:06:05.380609Z",
          "shell.execute_reply.started": "2021-05-28T19:06:04.626112Z",
          "shell.execute_reply": "2021-05-28T19:06:05.379560Z"
        },
        "trusted": true,
        "colab": {
          "base_uri": "https://localhost:8080/",
          "height": 197
        },
        "id": "2CcRHzmPH40K",
        "outputId": "649c50c9-dcd2-459d-9964-31fc9e8bfa27"
      },
      "source": [
        "#Loading the dataset\n",
        "df_train=pd.read_csv(\"train_s3TEQDk.csv\")\n",
        "df_train[\"source\"]=\"train\"\n",
        "df_test=pd.read_csv(\"test_mSzZ8RL.csv\")\n",
        "df_test[\"source\"]=\"test\"\n",
        "df=pd.concat([df_train,df_test],ignore_index=True)\n",
        "df.head()"
      ],
      "execution_count": null,
      "outputs": [
        {
          "output_type": "execute_result",
          "data": {
            "text/html": [
              "<div>\n",
              "<style scoped>\n",
              "    .dataframe tbody tr th:only-of-type {\n",
              "        vertical-align: middle;\n",
              "    }\n",
              "\n",
              "    .dataframe tbody tr th {\n",
              "        vertical-align: top;\n",
              "    }\n",
              "\n",
              "    .dataframe thead th {\n",
              "        text-align: right;\n",
              "    }\n",
              "</style>\n",
              "<table border=\"1\" class=\"dataframe\">\n",
              "  <thead>\n",
              "    <tr style=\"text-align: right;\">\n",
              "      <th></th>\n",
              "      <th>ID</th>\n",
              "      <th>Gender</th>\n",
              "      <th>Age</th>\n",
              "      <th>Region_Code</th>\n",
              "      <th>Occupation</th>\n",
              "      <th>Channel_Code</th>\n",
              "      <th>Vintage</th>\n",
              "      <th>Credit_Product</th>\n",
              "      <th>Avg_Account_Balance</th>\n",
              "      <th>Is_Active</th>\n",
              "      <th>Is_Lead</th>\n",
              "      <th>source</th>\n",
              "    </tr>\n",
              "  </thead>\n",
              "  <tbody>\n",
              "    <tr>\n",
              "      <th>0</th>\n",
              "      <td>NNVBBKZB</td>\n",
              "      <td>Female</td>\n",
              "      <td>73</td>\n",
              "      <td>RG268</td>\n",
              "      <td>Other</td>\n",
              "      <td>X3</td>\n",
              "      <td>43</td>\n",
              "      <td>No</td>\n",
              "      <td>1045696.0</td>\n",
              "      <td>No</td>\n",
              "      <td>0.0</td>\n",
              "      <td>train</td>\n",
              "    </tr>\n",
              "    <tr>\n",
              "      <th>1</th>\n",
              "      <td>IDD62UNG</td>\n",
              "      <td>Female</td>\n",
              "      <td>30</td>\n",
              "      <td>RG277</td>\n",
              "      <td>Salaried</td>\n",
              "      <td>X1</td>\n",
              "      <td>32</td>\n",
              "      <td>No</td>\n",
              "      <td>581988.0</td>\n",
              "      <td>No</td>\n",
              "      <td>0.0</td>\n",
              "      <td>train</td>\n",
              "    </tr>\n",
              "    <tr>\n",
              "      <th>2</th>\n",
              "      <td>HD3DSEMC</td>\n",
              "      <td>Female</td>\n",
              "      <td>56</td>\n",
              "      <td>RG268</td>\n",
              "      <td>Self_Employed</td>\n",
              "      <td>X3</td>\n",
              "      <td>26</td>\n",
              "      <td>No</td>\n",
              "      <td>1484315.0</td>\n",
              "      <td>Yes</td>\n",
              "      <td>0.0</td>\n",
              "      <td>train</td>\n",
              "    </tr>\n",
              "    <tr>\n",
              "      <th>3</th>\n",
              "      <td>BF3NC7KV</td>\n",
              "      <td>Male</td>\n",
              "      <td>34</td>\n",
              "      <td>RG270</td>\n",
              "      <td>Salaried</td>\n",
              "      <td>X1</td>\n",
              "      <td>19</td>\n",
              "      <td>No</td>\n",
              "      <td>470454.0</td>\n",
              "      <td>No</td>\n",
              "      <td>0.0</td>\n",
              "      <td>train</td>\n",
              "    </tr>\n",
              "    <tr>\n",
              "      <th>4</th>\n",
              "      <td>TEASRWXV</td>\n",
              "      <td>Female</td>\n",
              "      <td>30</td>\n",
              "      <td>RG282</td>\n",
              "      <td>Salaried</td>\n",
              "      <td>X1</td>\n",
              "      <td>33</td>\n",
              "      <td>No</td>\n",
              "      <td>886787.0</td>\n",
              "      <td>No</td>\n",
              "      <td>0.0</td>\n",
              "      <td>train</td>\n",
              "    </tr>\n",
              "  </tbody>\n",
              "</table>\n",
              "</div>"
            ],
            "text/plain": [
              "         ID  Gender  Age  ... Is_Active Is_Lead source\n",
              "0  NNVBBKZB  Female   73  ...        No     0.0  train\n",
              "1  IDD62UNG  Female   30  ...        No     0.0  train\n",
              "2  HD3DSEMC  Female   56  ...       Yes     0.0  train\n",
              "3  BF3NC7KV    Male   34  ...        No     0.0  train\n",
              "4  TEASRWXV  Female   30  ...        No     0.0  train\n",
              "\n",
              "[5 rows x 12 columns]"
            ]
          },
          "metadata": {
            "tags": []
          },
          "execution_count": 415
        }
      ]
    },
    {
      "cell_type": "markdown",
      "metadata": {
        "id": "Wq7L45TnR_-U"
      },
      "source": [
        "# 1. Checking and Cleaning Dataset :"
      ]
    },
    {
      "cell_type": "code",
      "metadata": {
        "execution": {
          "iopub.status.busy": "2021-05-28T19:06:05.384112Z",
          "iopub.execute_input": "2021-05-28T19:06:05.384411Z",
          "iopub.status.idle": "2021-05-28T19:06:05.392162Z",
          "shell.execute_reply.started": "2021-05-28T19:06:05.384382Z",
          "shell.execute_reply": "2021-05-28T19:06:05.390900Z"
        },
        "trusted": true,
        "colab": {
          "base_uri": "https://localhost:8080/"
        },
        "id": "MRoqeqNkH40Q",
        "outputId": "f4257240-0002-4000-df26-bec56fda2930"
      },
      "source": [
        "#Checking columns of dataset\n",
        "df.columns"
      ],
      "execution_count": null,
      "outputs": [
        {
          "output_type": "execute_result",
          "data": {
            "text/plain": [
              "Index(['ID', 'Gender', 'Age', 'Region_Code', 'Occupation', 'Channel_Code',\n",
              "       'Vintage', 'Credit_Product', 'Avg_Account_Balance', 'Is_Active',\n",
              "       'Is_Lead', 'source'],\n",
              "      dtype='object')"
            ]
          },
          "metadata": {
            "tags": []
          },
          "execution_count": 416
        }
      ]
    },
    {
      "cell_type": "code",
      "metadata": {
        "execution": {
          "iopub.status.busy": "2021-05-28T19:06:05.394052Z",
          "iopub.execute_input": "2021-05-28T19:06:05.394515Z",
          "iopub.status.idle": "2021-05-28T19:06:05.410156Z",
          "shell.execute_reply.started": "2021-05-28T19:06:05.394483Z",
          "shell.execute_reply": "2021-05-28T19:06:05.409449Z"
        },
        "trusted": true,
        "colab": {
          "base_uri": "https://localhost:8080/"
        },
        "id": "7ZMsColEH40R",
        "outputId": "e93f4322-0b81-4c1b-c15c-6e22ead3bf32"
      },
      "source": [
        "#Checking shape \n",
        "df.shape"
      ],
      "execution_count": null,
      "outputs": [
        {
          "output_type": "execute_result",
          "data": {
            "text/plain": [
              "(372414, 12)"
            ]
          },
          "metadata": {
            "tags": []
          },
          "execution_count": 417
        }
      ]
    },
    {
      "cell_type": "markdown",
      "metadata": {
        "id": "J7Xh62DHRfLB"
      },
      "source": [
        "**Observation:**\n",
        "         In our dataset,we have 351037 rows with 12 features after concatenating train and test file. "
      ]
    },
    {
      "cell_type": "code",
      "metadata": {
        "execution": {
          "iopub.status.busy": "2021-05-28T19:06:12.876495Z",
          "iopub.execute_input": "2021-05-28T19:06:12.876867Z",
          "iopub.status.idle": "2021-05-28T19:06:13.423630Z",
          "shell.execute_reply.started": "2021-05-28T19:06:12.876835Z",
          "shell.execute_reply": "2021-05-28T19:06:13.422356Z"
        },
        "trusted": true,
        "colab": {
          "base_uri": "https://localhost:8080/"
        },
        "id": "BaRFH8QAH40R",
        "outputId": "911a6a71-f1d8-4bf6-cb99-8b08e5f5eeab"
      },
      "source": [
        "#Checking unique values \n",
        "df.nunique()"
      ],
      "execution_count": null,
      "outputs": [
        {
          "output_type": "execute_result",
          "data": {
            "text/plain": [
              "ID                     351039\n",
              "Gender                      3\n",
              "Age                        63\n",
              "Region_Code                36\n",
              "Occupation                  6\n",
              "Channel_Code                5\n",
              "Vintage                    67\n",
              "Credit_Product              2\n",
              "Avg_Account_Balance    162136\n",
              "Is_Active                   2\n",
              "Is_Lead                     2\n",
              "source                      2\n",
              "dtype: int64"
            ]
          },
          "metadata": {
            "tags": []
          },
          "execution_count": 418
        }
      ]
    },
    {
      "cell_type": "code",
      "metadata": {
        "execution": {
          "iopub.status.busy": "2021-05-28T19:06:14.026635Z",
          "iopub.execute_input": "2021-05-28T19:06:14.027041Z",
          "iopub.status.idle": "2021-05-28T19:06:14.232254Z",
          "shell.execute_reply.started": "2021-05-28T19:06:14.027011Z",
          "shell.execute_reply": "2021-05-28T19:06:14.230055Z"
        },
        "trusted": true,
        "colab": {
          "base_uri": "https://localhost:8080/"
        },
        "id": "YF7ZLznVH40S",
        "outputId": "2b1700be-92b8-4d13-9a7c-a5ad1ec07f15"
      },
      "source": [
        "#Check for Null Values\n",
        "df.isnull().sum()"
      ],
      "execution_count": null,
      "outputs": [
        {
          "output_type": "execute_result",
          "data": {
            "text/plain": [
              "ID                          0\n",
              "Gender                      0\n",
              "Age                         0\n",
              "Region_Code                 0\n",
              "Occupation                  0\n",
              "Channel_Code                0\n",
              "Vintage                     0\n",
              "Credit_Product          44459\n",
              "Avg_Account_Balance         1\n",
              "Is_Active                   1\n",
              "Is_Lead                105313\n",
              "source                      0\n",
              "dtype: int64"
            ]
          },
          "metadata": {
            "tags": []
          },
          "execution_count": 419
        }
      ]
    },
    {
      "cell_type": "markdown",
      "metadata": {
        "id": "tz1HA-XPSOsZ"
      },
      "source": [
        "**Observation**:\n",
        "        Null values are present in Credit _Product column."
      ]
    },
    {
      "cell_type": "code",
      "metadata": {
        "execution": {
          "iopub.status.busy": "2021-05-28T19:06:15.438463Z",
          "iopub.execute_input": "2021-05-28T19:06:15.438812Z",
          "iopub.status.idle": "2021-05-28T19:06:15.473695Z",
          "shell.execute_reply.started": "2021-05-28T19:06:15.438781Z",
          "shell.execute_reply": "2021-05-28T19:06:15.472633Z"
        },
        "trusted": true,
        "id": "iBo8kdcZH40S"
      },
      "source": [
        "#Fill null values in Credit_Product feature\n",
        "df['Credit_Product']= df['Credit_Product'].fillna(\"NA\")"
      ],
      "execution_count": null,
      "outputs": []
    },
    {
      "cell_type": "code",
      "metadata": {
        "execution": {
          "iopub.status.busy": "2021-05-28T19:06:18.481736Z",
          "iopub.execute_input": "2021-05-28T19:06:18.482118Z",
          "iopub.status.idle": "2021-05-28T19:06:18.660818Z",
          "shell.execute_reply.started": "2021-05-28T19:06:18.482087Z",
          "shell.execute_reply": "2021-05-28T19:06:18.659114Z"
        },
        "trusted": true,
        "colab": {
          "base_uri": "https://localhost:8080/"
        },
        "id": "ovWe73P5H40T",
        "outputId": "a9f32da5-9cac-4920-e4d5-6e7c1318a826"
      },
      "source": [
        "#Again check for null values\n",
        "df.isnull().sum()"
      ],
      "execution_count": null,
      "outputs": [
        {
          "output_type": "execute_result",
          "data": {
            "text/plain": [
              "ID                          0\n",
              "Gender                      0\n",
              "Age                         0\n",
              "Region_Code                 0\n",
              "Occupation                  0\n",
              "Channel_Code                0\n",
              "Vintage                     0\n",
              "Credit_Product              0\n",
              "Avg_Account_Balance         1\n",
              "Is_Active                   1\n",
              "Is_Lead                105313\n",
              "source                      0\n",
              "dtype: int64"
            ]
          },
          "metadata": {
            "tags": []
          },
          "execution_count": 422
        }
      ]
    },
    {
      "cell_type": "markdown",
      "metadata": {
        "id": "GlVD30_ESbr7"
      },
      "source": [
        "**Observation:**\n",
        "         No null values are present except Is_Lead as it is our target variable."
      ]
    },
    {
      "cell_type": "code",
      "metadata": {
        "execution": {
          "iopub.status.busy": "2021-05-28T19:06:22.602987Z",
          "iopub.execute_input": "2021-05-28T19:06:22.603296Z",
          "iopub.status.idle": "2021-05-28T19:06:22.609506Z",
          "shell.execute_reply.started": "2021-05-28T19:06:22.603250Z",
          "shell.execute_reply": "2021-05-28T19:06:22.608762Z"
        },
        "trusted": true,
        "colab": {
          "base_uri": "https://localhost:8080/"
        },
        "id": "dDFv_GXlH40V",
        "outputId": "e4a5a8d2-9496-4f16-f3c9-abbc07910db2"
      },
      "source": [
        "#Checking Datatypes and info\n",
        "df.info()"
      ],
      "execution_count": null,
      "outputs": [
        {
          "output_type": "execute_result",
          "data": {
            "text/plain": [
              "ID                      object\n",
              "Gender                  object\n",
              "Age                      int64\n",
              "Region_Code             object\n",
              "Occupation              object\n",
              "Channel_Code            object\n",
              "Vintage                  int64\n",
              "Credit_Product          object\n",
              "Avg_Account_Balance    float64\n",
              "Is_Active               object\n",
              "Is_Lead                float64\n",
              "source                  object\n",
              "dtype: object"
            ]
          },
          "metadata": {
            "tags": []
          },
          "execution_count": 424
        }
      ]
    },
    {
      "cell_type": "markdown",
      "metadata": {
        "id": "5EqFM-L1SpYL"
      },
      "source": [
        "**Observation:**\n",
        "         There are some categorical features that needs to be changed in numerical datatype."
      ]
    },
    {
      "cell_type": "code",
      "metadata": {
        "execution": {
          "iopub.status.busy": "2021-05-28T19:06:27.754887Z",
          "iopub.execute_input": "2021-05-28T19:06:27.755207Z",
          "iopub.status.idle": "2021-05-28T19:06:27.907364Z",
          "shell.execute_reply.started": "2021-05-28T19:06:27.755181Z",
          "shell.execute_reply": "2021-05-28T19:06:27.906437Z"
        },
        "trusted": true,
        "colab": {
          "base_uri": "https://localhost:8080/",
          "height": 197
        },
        "id": "gf9pk6xPH40X",
        "outputId": "76c7c255-8214-4fb4-872f-3f615446b1ff"
      },
      "source": [
        "#Changing Yes to 1 and No to 0 in Is_Active column to covert  data into float\n",
        "\n",
        "df[\"Is_Active\"].replace([\"Yes\",\"No\"],[1,0],inplace=True)\n",
        "\n",
        "df['Is_Active'] = df['Is_Active'].astype(float)\n",
        "df.head()"
      ],
      "execution_count": null,
      "outputs": [
        {
          "output_type": "execute_result",
          "data": {
            "text/html": [
              "<div>\n",
              "<style scoped>\n",
              "    .dataframe tbody tr th:only-of-type {\n",
              "        vertical-align: middle;\n",
              "    }\n",
              "\n",
              "    .dataframe tbody tr th {\n",
              "        vertical-align: top;\n",
              "    }\n",
              "\n",
              "    .dataframe thead th {\n",
              "        text-align: right;\n",
              "    }\n",
              "</style>\n",
              "<table border=\"1\" class=\"dataframe\">\n",
              "  <thead>\n",
              "    <tr style=\"text-align: right;\">\n",
              "      <th></th>\n",
              "      <th>ID</th>\n",
              "      <th>Gender</th>\n",
              "      <th>Age</th>\n",
              "      <th>Region_Code</th>\n",
              "      <th>Occupation</th>\n",
              "      <th>Channel_Code</th>\n",
              "      <th>Vintage</th>\n",
              "      <th>Credit_Product</th>\n",
              "      <th>Avg_Account_Balance</th>\n",
              "      <th>Is_Active</th>\n",
              "      <th>Is_Lead</th>\n",
              "      <th>source</th>\n",
              "    </tr>\n",
              "  </thead>\n",
              "  <tbody>\n",
              "    <tr>\n",
              "      <th>0</th>\n",
              "      <td>NNVBBKZB</td>\n",
              "      <td>Female</td>\n",
              "      <td>73</td>\n",
              "      <td>RG268</td>\n",
              "      <td>Other</td>\n",
              "      <td>X3</td>\n",
              "      <td>43</td>\n",
              "      <td>No</td>\n",
              "      <td>1045696.0</td>\n",
              "      <td>0.0</td>\n",
              "      <td>0.0</td>\n",
              "      <td>train</td>\n",
              "    </tr>\n",
              "    <tr>\n",
              "      <th>1</th>\n",
              "      <td>IDD62UNG</td>\n",
              "      <td>Female</td>\n",
              "      <td>30</td>\n",
              "      <td>RG277</td>\n",
              "      <td>Salaried</td>\n",
              "      <td>X1</td>\n",
              "      <td>32</td>\n",
              "      <td>No</td>\n",
              "      <td>581988.0</td>\n",
              "      <td>0.0</td>\n",
              "      <td>0.0</td>\n",
              "      <td>train</td>\n",
              "    </tr>\n",
              "    <tr>\n",
              "      <th>2</th>\n",
              "      <td>HD3DSEMC</td>\n",
              "      <td>Female</td>\n",
              "      <td>56</td>\n",
              "      <td>RG268</td>\n",
              "      <td>Self_Employed</td>\n",
              "      <td>X3</td>\n",
              "      <td>26</td>\n",
              "      <td>No</td>\n",
              "      <td>1484315.0</td>\n",
              "      <td>1.0</td>\n",
              "      <td>0.0</td>\n",
              "      <td>train</td>\n",
              "    </tr>\n",
              "    <tr>\n",
              "      <th>3</th>\n",
              "      <td>BF3NC7KV</td>\n",
              "      <td>Male</td>\n",
              "      <td>34</td>\n",
              "      <td>RG270</td>\n",
              "      <td>Salaried</td>\n",
              "      <td>X1</td>\n",
              "      <td>19</td>\n",
              "      <td>No</td>\n",
              "      <td>470454.0</td>\n",
              "      <td>0.0</td>\n",
              "      <td>0.0</td>\n",
              "      <td>train</td>\n",
              "    </tr>\n",
              "    <tr>\n",
              "      <th>4</th>\n",
              "      <td>TEASRWXV</td>\n",
              "      <td>Female</td>\n",
              "      <td>30</td>\n",
              "      <td>RG282</td>\n",
              "      <td>Salaried</td>\n",
              "      <td>X1</td>\n",
              "      <td>33</td>\n",
              "      <td>No</td>\n",
              "      <td>886787.0</td>\n",
              "      <td>0.0</td>\n",
              "      <td>0.0</td>\n",
              "      <td>train</td>\n",
              "    </tr>\n",
              "  </tbody>\n",
              "</table>\n",
              "</div>"
            ],
            "text/plain": [
              "         ID  Gender  Age  ... Is_Active Is_Lead source\n",
              "0  NNVBBKZB  Female   73  ...       0.0     0.0  train\n",
              "1  IDD62UNG  Female   30  ...       0.0     0.0  train\n",
              "2  HD3DSEMC  Female   56  ...       1.0     0.0  train\n",
              "3  BF3NC7KV    Male   34  ...       0.0     0.0  train\n",
              "4  TEASRWXV  Female   30  ...       0.0     0.0  train\n",
              "\n",
              "[5 rows x 12 columns]"
            ]
          },
          "metadata": {
            "tags": []
          },
          "execution_count": 427
        }
      ]
    },
    {
      "cell_type": "code",
      "metadata": {
        "execution": {
          "iopub.status.busy": "2021-05-28T19:06:28.945973Z",
          "iopub.execute_input": "2021-05-28T19:06:28.946298Z",
          "iopub.status.idle": "2021-05-28T19:06:29.203726Z",
          "shell.execute_reply.started": "2021-05-28T19:06:28.946256Z",
          "shell.execute_reply": "2021-05-28T19:06:29.202618Z"
        },
        "trusted": true,
        "id": "uGohTHsAH40X"
      },
      "source": [
        "#Now changing all categorical column into numerical form using label endcoding\n",
        "cat_col=[ 'Gender', 'Region_Code', 'Occupation','Channel_Code', 'Credit_Product']\n",
        "\n",
        "from sklearn.preprocessing import LabelEncoder\n",
        "le = LabelEncoder()\n",
        "for col in cat_col:\n",
        "  df[col]= le.fit_transform(df[col])\n",
        "\n",
        "\n",
        "df_2= df\n",
        "df_2.head()"
      ],
      "execution_count": null,
      "outputs": []
    },
    {
      "cell_type": "code",
      "metadata": {
        "id": "6UD3zEcRa0FP"
      },
      "source": [
        "#Separating the train and test\n",
        "df_train=df_2.loc[df_2[\"source\"]==\"train\"]\n",
        "df_test=df_2.loc[df_2[\"source\"]==\"test\"]\n",
        "df_1 = df_train"
      ],
      "execution_count": null,
      "outputs": []
    },
    {
      "cell_type": "code",
      "metadata": {
        "execution": {
          "iopub.status.busy": "2021-05-28T19:06:26.375344Z",
          "iopub.execute_input": "2021-05-28T19:06:26.375685Z",
          "iopub.status.idle": "2021-05-28T19:06:26.392739Z",
          "shell.execute_reply.started": "2021-05-28T19:06:26.375655Z",
          "shell.execute_reply": "2021-05-28T19:06:26.391556Z"
        },
        "trusted": true,
        "id": "hn6FdmRoH40W",
        "colab": {
          "base_uri": "https://localhost:8080/",
          "height": 197
        },
        "outputId": "7042556f-6ae2-4cec-a9e0-3c5a6472d1b3"
      },
      "source": [
        "#we can drop column as they are irrelevant and have no effect on our data\n",
        "df_1.drop(columns=['ID',\"source\"],inplace=True)\n",
        "df_1.head()"
      ],
      "execution_count": null,
      "outputs": [
        {
          "output_type": "execute_result",
          "data": {
            "text/html": [
              "<div>\n",
              "<style scoped>\n",
              "    .dataframe tbody tr th:only-of-type {\n",
              "        vertical-align: middle;\n",
              "    }\n",
              "\n",
              "    .dataframe tbody tr th {\n",
              "        vertical-align: top;\n",
              "    }\n",
              "\n",
              "    .dataframe thead th {\n",
              "        text-align: right;\n",
              "    }\n",
              "</style>\n",
              "<table border=\"1\" class=\"dataframe\">\n",
              "  <thead>\n",
              "    <tr style=\"text-align: right;\">\n",
              "      <th></th>\n",
              "      <th>Gender</th>\n",
              "      <th>Age</th>\n",
              "      <th>Region_Code</th>\n",
              "      <th>Occupation</th>\n",
              "      <th>Channel_Code</th>\n",
              "      <th>Vintage</th>\n",
              "      <th>Credit_Product</th>\n",
              "      <th>Avg_Account_Balance</th>\n",
              "      <th>Is_Active</th>\n",
              "      <th>Is_Lead</th>\n",
              "    </tr>\n",
              "  </thead>\n",
              "  <tbody>\n",
              "    <tr>\n",
              "      <th>0</th>\n",
              "      <td>0</td>\n",
              "      <td>73</td>\n",
              "      <td>19</td>\n",
              "      <td>2</td>\n",
              "      <td>2</td>\n",
              "      <td>43</td>\n",
              "      <td>1</td>\n",
              "      <td>1045696.0</td>\n",
              "      <td>0.0</td>\n",
              "      <td>0.0</td>\n",
              "    </tr>\n",
              "    <tr>\n",
              "      <th>1</th>\n",
              "      <td>0</td>\n",
              "      <td>30</td>\n",
              "      <td>28</td>\n",
              "      <td>3</td>\n",
              "      <td>0</td>\n",
              "      <td>32</td>\n",
              "      <td>1</td>\n",
              "      <td>581988.0</td>\n",
              "      <td>0.0</td>\n",
              "      <td>0.0</td>\n",
              "    </tr>\n",
              "    <tr>\n",
              "      <th>2</th>\n",
              "      <td>0</td>\n",
              "      <td>56</td>\n",
              "      <td>19</td>\n",
              "      <td>4</td>\n",
              "      <td>2</td>\n",
              "      <td>26</td>\n",
              "      <td>1</td>\n",
              "      <td>1484315.0</td>\n",
              "      <td>1.0</td>\n",
              "      <td>0.0</td>\n",
              "    </tr>\n",
              "    <tr>\n",
              "      <th>3</th>\n",
              "      <td>1</td>\n",
              "      <td>34</td>\n",
              "      <td>21</td>\n",
              "      <td>3</td>\n",
              "      <td>0</td>\n",
              "      <td>19</td>\n",
              "      <td>1</td>\n",
              "      <td>470454.0</td>\n",
              "      <td>0.0</td>\n",
              "      <td>0.0</td>\n",
              "    </tr>\n",
              "    <tr>\n",
              "      <th>4</th>\n",
              "      <td>0</td>\n",
              "      <td>30</td>\n",
              "      <td>33</td>\n",
              "      <td>3</td>\n",
              "      <td>0</td>\n",
              "      <td>33</td>\n",
              "      <td>1</td>\n",
              "      <td>886787.0</td>\n",
              "      <td>0.0</td>\n",
              "      <td>0.0</td>\n",
              "    </tr>\n",
              "  </tbody>\n",
              "</table>\n",
              "</div>"
            ],
            "text/plain": [
              "   Gender  Age  Region_Code  ...  Avg_Account_Balance  Is_Active  Is_Lead\n",
              "0       0   73           19  ...            1045696.0        0.0      0.0\n",
              "1       0   30           28  ...             581988.0        0.0      0.0\n",
              "2       0   56           19  ...            1484315.0        1.0      0.0\n",
              "3       1   34           21  ...             470454.0        0.0      0.0\n",
              "4       0   30           33  ...             886787.0        0.0      0.0\n",
              "\n",
              "[5 rows x 10 columns]"
            ]
          },
          "metadata": {
            "tags": []
          },
          "execution_count": 433
        }
      ]
    },
    {
      "cell_type": "code",
      "metadata": {
        "id": "qIEWU7q3TmsV"
      },
      "source": [
        ""
      ],
      "execution_count": null,
      "outputs": []
    },
    {
      "cell_type": "markdown",
      "metadata": {
        "id": "tZfLopvhRfLH"
      },
      "source": [
        "# 2. Data Visualization :"
      ]
    },
    {
      "cell_type": "markdown",
      "metadata": {
        "id": "GFrv0X0iRfLI"
      },
      "source": [
        "## Univariate Analysis"
      ]
    },
    {
      "cell_type": "code",
      "metadata": {
        "execution": {
          "iopub.status.busy": "2021-05-29T17:21:42.514974Z",
          "iopub.execute_input": "2021-05-29T17:21:42.515339Z",
          "iopub.status.idle": "2021-05-29T17:21:44.529047Z",
          "shell.execute_reply.started": "2021-05-29T17:21:42.515302Z",
          "shell.execute_reply": "2021-05-29T17:21:44.528092Z"
        },
        "trusted": true,
        "id": "ElUPek_KRfLI",
        "outputId": "82f5bd7f-fbaf-4a02-e63d-841499cd496f"
      },
      "source": [
        "sns.distplot(df['Age']);"
      ],
      "execution_count": null,
      "outputs": [
        {
          "output_type": "display_data",
          "data": {
            "text/plain": [
              "<Figure size 432x288 with 1 Axes>"
            ],
            "image/png": "[encoded data removed]"
          },
          "metadata": {
            "tags": [],
            "needs_background": "light"
          }
        }
      ]
    },
    {
      "cell_type": "markdown",
      "metadata": {
        "id": "sSdkmb36T39c"
      },
      "source": [
        "**Observation:**\n",
        "      Age distribution is slightly skewed towards left"
      ]
    },
    {
      "cell_type": "code",
      "metadata": {
        "execution": {
          "iopub.status.busy": "2021-05-29T18:09:22.002073Z",
          "iopub.execute_input": "2021-05-29T18:09:22.002903Z",
          "iopub.status.idle": "2021-05-29T18:09:23.959154Z",
          "shell.execute_reply.started": "2021-05-29T18:09:22.002810Z",
          "shell.execute_reply": "2021-05-29T18:09:23.958014Z"
        },
        "trusted": true,
        "id": "L1JNDUygRfLI",
        "outputId": "fd846871-5a8a-4695-991f-5d9e803f0f21"
      },
      "source": [
        "sns.distplot(df['Avg_Account_Balance'])\n",
        "plt.show()"
      ],
      "execution_count": null,
      "outputs": [
        {
          "output_type": "display_data",
          "data": {
            "text/plain": [
              "<Figure size 432x288 with 1 Axes>"
            ],
            "image/png": "[encoded data removed]"
          },
          "metadata": {
            "tags": [],
            "needs_background": "light"
          }
        }
      ]
    },
    {
      "cell_type": "markdown",
      "metadata": {
        "id": "_ReedsYiUDPW"
      },
      "source": [
        "**Observation:**\n",
        "       Data is skewed with people having low avg. account balance"
      ]
    },
    {
      "cell_type": "code",
      "metadata": {
        "execution": {
          "iopub.status.busy": "2021-05-29T17:23:54.057952Z",
          "iopub.execute_input": "2021-05-29T17:23:54.058474Z",
          "iopub.status.idle": "2021-05-29T17:23:54.520083Z",
          "shell.execute_reply.started": "2021-05-29T17:23:54.058430Z",
          "shell.execute_reply": "2021-05-29T17:23:54.519135Z"
        },
        "trusted": true,
        "id": "wRqWWWXjRfLI",
        "outputId": "f455f9c0-a2b5-41c0-8652-bf3ada44372e"
      },
      "source": [
        "#Countplot for Gender feature \n",
        "plt.figure(figsize=(8,4))\n",
        "sns.countplot(df['Gender'],palette='Accent')\n",
        "plt.show()"
      ],
      "execution_count": null,
      "outputs": [
        {
          "output_type": "display_data",
          "data": {
            "text/plain": [
              "<Figure size 576x288 with 1 Axes>"
            ],
            "image/png": "[encoded data removed]"
          },
          "metadata": {
            "tags": [],
            "needs_background": "light"
          }
        }
      ]
    },
    {
      "cell_type": "markdown",
      "metadata": {
        "id": "fAdJBYH6RfLJ"
      },
      "source": [
        "**Observation:**\n",
        "       More male customers are present in the dataset. "
      ]
    },
    {
      "cell_type": "code",
      "metadata": {
        "execution": {
          "iopub.status.busy": "2021-05-29T19:53:44.088845Z",
          "iopub.execute_input": "2021-05-29T19:53:44.089214Z",
          "iopub.status.idle": "2021-05-29T19:53:44.233463Z",
          "shell.execute_reply.started": "2021-05-29T19:53:44.089180Z",
          "shell.execute_reply": "2021-05-29T19:53:44.232502Z"
        },
        "trusted": true,
        "id": "LQBT3XMlRfLK",
        "outputId": "d5198338-214e-46d8-dba0-e449c268c2ce"
      },
      "source": [
        "#Countplot for Target variable i.e 'Is_Lead'\n",
        "target = 'Is_Lead'\n",
        "plt.figure(figsize=(8,4))\n",
        "sns.countplot(df[target],palette='hls')\n",
        "print(df[target].value_counts())"
      ],
      "execution_count": null,
      "outputs": [
        {
          "output_type": "stream",
          "text": [
            "0.0    187437\n",
            "1.0     58288\n",
            "Name: Is_Lead, dtype: int64\n"
          ],
          "name": "stdout"
        },
        {
          "output_type": "display_data",
          "data": {
            "text/plain": [
              "<Figure size 576x288 with 1 Axes>"
            ],
            "image/png": "[encoded data removed]"
          },
          "metadata": {
            "tags": [],
            "needs_background": "light"
          }
        }
      ]
    },
    {
      "cell_type": "markdown",
      "metadata": {
        "id": "n1KV-0hhRfLK"
      },
      "source": [
        "**Observation:**\n",
        "         Plot shows that data is highly imbalanced and needs to be corrected before applying algorithms"
      ]
    },
    {
      "cell_type": "markdown",
      "metadata": {
        "id": "1mDeRITIRfLK"
      },
      "source": [
        "## Bivariate Analysis"
      ]
    },
    {
      "cell_type": "code",
      "metadata": {
        "execution": {
          "iopub.status.busy": "2021-05-29T19:15:12.810434Z",
          "iopub.execute_input": "2021-05-29T19:15:12.810958Z",
          "iopub.status.idle": "2021-05-29T19:15:13.365733Z",
          "shell.execute_reply.started": "2021-05-29T19:15:12.810926Z",
          "shell.execute_reply": "2021-05-29T19:15:13.364970Z"
        },
        "trusted": true,
        "id": "XXFsgldzRfLL",
        "outputId": "9a769890-7825-4e7e-ea84-e8a712197986"
      },
      "source": [
        "#Checking occupation with customers\n",
        "plt.figure(figsize=(8,4))\n",
        "sns.countplot(x='Occupation',hue='Is_Lead',data=df,palette= 'magma')\n",
        "plt.show()"
      ],
      "execution_count": null,
      "outputs": [
        {
          "output_type": "display_data",
          "data": {
            "text/plain": [
              "<Figure size 576x288 with 1 Axes>"
            ],
            "image/png": "[encoded data removed]"
          },
          "metadata": {
            "tags": [],
            "needs_background": "light"
          }
        }
      ]
    },
    {
      "cell_type": "markdown",
      "metadata": {
        "id": "CuWL8ga7RfLJ"
      },
      "source": [
        "**Observation:**\n",
        "*         Self employed customers are less likely to get the credit card. Whereas entrepreneurs (though limited) are most likely to get credit card.*"
      ]
    },
    {
      "cell_type": "code",
      "metadata": {
        "execution": {
          "iopub.status.busy": "2021-05-29T18:56:07.681603Z",
          "iopub.execute_input": "2021-05-29T18:56:07.682135Z",
          "iopub.status.idle": "2021-05-29T18:56:12.799713Z",
          "shell.execute_reply.started": "2021-05-29T18:56:07.682102Z",
          "shell.execute_reply": "2021-05-29T18:56:12.798738Z"
        },
        "trusted": true,
        "id": "yK8KsSPmRfLM",
        "outputId": "287f6021-4eff-43d0-b1f0-21af48270ec0"
      },
      "source": [
        "#Plot showing Activness of customer in last 3 months with respect to Occupation of customer\n",
        "plt.figure(figsize=(8,4))\n",
        "sns.catplot(y='Age',x='Occupation',hue='Is_Active',data=df,kind='bar',palette='Oranges')\n",
        "plt.show()"
      ],
      "execution_count": null,
      "outputs": [
        {
          "output_type": "display_data",
          "data": {
            "text/plain": [
              "<Figure size 576x288 with 0 Axes>"
            ]
          },
          "metadata": {
            "tags": []
          }
        },
        {
          "output_type": "display_data",
          "data": {
            "text/plain": [
              "<Figure size 412.125x360 with 1 Axes>"
            ],
            "image/png": "[encoded data removed]"
          },
          "metadata": {
            "tags": [],
            "needs_background": "light"
          }
        }
      ]
    },
    {
      "cell_type": "markdown",
      "metadata": {
        "id": "0_M95KFxRfLM"
      },
      "source": [
        "**Observation:**\n",
        "      Active customers are more in salaried,self_employed and others as compared to entrepreneur in last 3 months."
      ]
    },
    {
      "cell_type": "markdown",
      "metadata": {
        "id": "qC0j0K4uWC__"
      },
      "source": [
        "# 3. Data Preparation :"
      ]
    },
    {
      "cell_type": "markdown",
      "metadata": {
        "id": "QOrzCWcSWTOe"
      },
      "source": [
        "## Resampling Data"
      ]
    },
    {
      "cell_type": "code",
      "metadata": {
        "id": "W36hGP-CIs2m",
        "colab": {
          "base_uri": "https://localhost:8080/"
        },
        "outputId": "8d260bf3-7b44-4f2a-fe7d-842ddf10b113"
      },
      "source": [
        "# To balance the dataset , we will apply undersampling method\n",
        "from sklearn.utils import resample\n",
        "# separate the minority and majority classes\n",
        "df_majority = df_1[df_1['Is_Lead']==0]\n",
        "df_minority = df_1[df_1['Is_Lead']==1]\n",
        "\n",
        "print(\" The majority class values are\", len(df_majority))\n",
        "print(\" The minority class values are\", len(df_minority))\n",
        "print(\" The ratio of both classes are\", len(df_majority)/len(df_minority))"
      ],
      "execution_count": null,
      "outputs": [
        {
          "output_type": "stream",
          "text": [
            " The majority class values are 126800\n",
            " The minority class values are 63400\n",
            " The ratio of both classes are 2.0\n"
          ],
          "name": "stdout"
        }
      ]
    },
    {
      "cell_type": "code",
      "metadata": {
        "id": "sFJ0qlQaKKfW",
        "colab": {
          "base_uri": "https://localhost:8080/"
        },
        "outputId": "0ed091d3-8241-45f9-cd47-b1ef7f47b2b9"
      },
      "source": [
        "# undersample majority class\n",
        "df_majority_undersampled = resample(df_majority, replace=True, n_samples=len(df_minority), random_state=0)\n",
        "# combine minority class with oversampled majority class\n",
        "df_undersampled = pd.concat([df_minority, df_majority_undersampled])\n",
        "\n",
        "df_undersampled['Is_Lead'].value_counts()\n",
        "df_1=df_undersampled\n",
        "\n",
        "# display new class value counts\n",
        "print(\" The undersamples class values count is:\", len(df_undersampled))\n",
        "print(\" The ratio of both classes are\", len(df_undersampled[df_undersampled[\"Is_Lead\"]==0])/len(df_undersampled[df_undersampled[\"Is_Lead\"]==1]))\n"
      ],
      "execution_count": null,
      "outputs": [
        {
          "output_type": "stream",
          "text": [
            " The undersamples class values count is: 126800\n",
            " The ratio of both classes are 1.0\n"
          ],
          "name": "stdout"
        }
      ]
    },
    {
      "cell_type": "code",
      "metadata": {
        "execution": {
          "iopub.status.busy": "2021-05-28T19:06:34.567415Z",
          "iopub.execute_input": "2021-05-28T19:06:34.567761Z",
          "iopub.status.idle": "2021-05-28T19:06:34.618208Z",
          "shell.execute_reply.started": "2021-05-28T19:06:34.567730Z",
          "shell.execute_reply": "2021-05-28T19:06:34.617239Z"
        },
        "trusted": true,
        "id": "HrpJpp27H40Z"
      },
      "source": [
        "# dropping target variable \n",
        "#assign the value of y for training and testing phase\n",
        "xc = df_1.drop(columns=['Is_Lead'])\n",
        "yc = df_1[[\"Is_Lead\"]]"
      ],
      "execution_count": null,
      "outputs": []
    },
    {
      "cell_type": "code",
      "metadata": {
        "colab": {
          "base_uri": "https://localhost:8080/",
          "height": 407
        },
        "id": "WcvCBnGqKimN",
        "outputId": "1499784c-6308-4b46-d602-9eab329318b3"
      },
      "source": [
        "df_1.head()"
      ],
      "execution_count": null,
      "outputs": [
        {
          "output_type": "execute_result",
          "data": {
            "text/html": [
              "<div>\n",
              "<style scoped>\n",
              "    .dataframe tbody tr th:only-of-type {\n",
              "        vertical-align: middle;\n",
              "    }\n",
              "\n",
              "    .dataframe tbody tr th {\n",
              "        vertical-align: top;\n",
              "    }\n",
              "\n",
              "    .dataframe thead th {\n",
              "        text-align: right;\n",
              "    }\n",
              "</style>\n",
              "<table border=\"1\" class=\"dataframe\">\n",
              "  <thead>\n",
              "    <tr style=\"text-align: right;\">\n",
              "      <th></th>\n",
              "      <th>Gender</th>\n",
              "      <th>Age</th>\n",
              "      <th>Region_Code</th>\n",
              "      <th>Occupation</th>\n",
              "      <th>Channel_Code</th>\n",
              "      <th>Vintage</th>\n",
              "      <th>Credit_Product</th>\n",
              "      <th>Avg_Account_Balance</th>\n",
              "      <th>Is_Active</th>\n",
              "      <th>Is_Lead</th>\n",
              "    </tr>\n",
              "  </thead>\n",
              "  <tbody>\n",
              "    <tr>\n",
              "      <th>6</th>\n",
              "      <td>1</td>\n",
              "      <td>62</td>\n",
              "      <td>33</td>\n",
              "      <td>2</td>\n",
              "      <td>2</td>\n",
              "      <td>20</td>\n",
              "      <td>0</td>\n",
              "      <td>1056750.0</td>\n",
              "      <td>1.0</td>\n",
              "      <td>1.0</td>\n",
              "    </tr>\n",
              "    <tr>\n",
              "      <th>15</th>\n",
              "      <td>1</td>\n",
              "      <td>33</td>\n",
              "      <td>19</td>\n",
              "      <td>4</td>\n",
              "      <td>1</td>\n",
              "      <td>69</td>\n",
              "      <td>0</td>\n",
              "      <td>517063.0</td>\n",
              "      <td>1.0</td>\n",
              "      <td>1.0</td>\n",
              "    </tr>\n",
              "    <tr>\n",
              "      <th>16</th>\n",
              "      <td>0</td>\n",
              "      <td>46</td>\n",
              "      <td>19</td>\n",
              "      <td>2</td>\n",
              "      <td>2</td>\n",
              "      <td>97</td>\n",
              "      <td>2</td>\n",
              "      <td>2282502.0</td>\n",
              "      <td>0.0</td>\n",
              "      <td>1.0</td>\n",
              "    </tr>\n",
              "    <tr>\n",
              "      <th>17</th>\n",
              "      <td>0</td>\n",
              "      <td>59</td>\n",
              "      <td>34</td>\n",
              "      <td>2</td>\n",
              "      <td>2</td>\n",
              "      <td>15</td>\n",
              "      <td>2</td>\n",
              "      <td>2384692.0</td>\n",
              "      <td>0.0</td>\n",
              "      <td>1.0</td>\n",
              "    </tr>\n",
              "    <tr>\n",
              "      <th>20</th>\n",
              "      <td>1</td>\n",
              "      <td>44</td>\n",
              "      <td>20</td>\n",
              "      <td>4</td>\n",
              "      <td>1</td>\n",
              "      <td>19</td>\n",
              "      <td>2</td>\n",
              "      <td>1001650.0</td>\n",
              "      <td>0.0</td>\n",
              "      <td>1.0</td>\n",
              "    </tr>\n",
              "    <tr>\n",
              "      <th>...</th>\n",
              "      <td>...</td>\n",
              "      <td>...</td>\n",
              "      <td>...</td>\n",
              "      <td>...</td>\n",
              "      <td>...</td>\n",
              "      <td>...</td>\n",
              "      <td>...</td>\n",
              "      <td>...</td>\n",
              "      <td>...</td>\n",
              "      <td>...</td>\n",
              "    </tr>\n",
              "    <tr>\n",
              "      <th>214958</th>\n",
              "      <td>0</td>\n",
              "      <td>55</td>\n",
              "      <td>34</td>\n",
              "      <td>4</td>\n",
              "      <td>2</td>\n",
              "      <td>39</td>\n",
              "      <td>2</td>\n",
              "      <td>1942193.0</td>\n",
              "      <td>1.0</td>\n",
              "      <td>0.0</td>\n",
              "    </tr>\n",
              "    <tr>\n",
              "      <th>122923</th>\n",
              "      <td>1</td>\n",
              "      <td>31</td>\n",
              "      <td>19</td>\n",
              "      <td>3</td>\n",
              "      <td>0</td>\n",
              "      <td>27</td>\n",
              "      <td>1</td>\n",
              "      <td>3605087.0</td>\n",
              "      <td>0.0</td>\n",
              "      <td>0.0</td>\n",
              "    </tr>\n",
              "    <tr>\n",
              "      <th>2501</th>\n",
              "      <td>1</td>\n",
              "      <td>25</td>\n",
              "      <td>5</td>\n",
              "      <td>3</td>\n",
              "      <td>0</td>\n",
              "      <td>19</td>\n",
              "      <td>1</td>\n",
              "      <td>1688792.0</td>\n",
              "      <td>1.0</td>\n",
              "      <td>0.0</td>\n",
              "    </tr>\n",
              "    <tr>\n",
              "      <th>153116</th>\n",
              "      <td>0</td>\n",
              "      <td>46</td>\n",
              "      <td>19</td>\n",
              "      <td>4</td>\n",
              "      <td>1</td>\n",
              "      <td>49</td>\n",
              "      <td>2</td>\n",
              "      <td>1492449.0</td>\n",
              "      <td>1.0</td>\n",
              "      <td>0.0</td>\n",
              "    </tr>\n",
              "    <tr>\n",
              "      <th>97534</th>\n",
              "      <td>0</td>\n",
              "      <td>43</td>\n",
              "      <td>21</td>\n",
              "      <td>4</td>\n",
              "      <td>0</td>\n",
              "      <td>32</td>\n",
              "      <td>1</td>\n",
              "      <td>580573.0</td>\n",
              "      <td>0.0</td>\n",
              "      <td>0.0</td>\n",
              "    </tr>\n",
              "  </tbody>\n",
              "</table>\n",
              "<p>190200 rows × 10 columns</p>\n",
              "</div>"
            ],
            "text/plain": [
              "        Gender  Age  Region_Code  ...  Avg_Account_Balance  Is_Active  Is_Lead\n",
              "6            1   62           33  ...            1056750.0        1.0      1.0\n",
              "15           1   33           19  ...             517063.0        1.0      1.0\n",
              "16           0   46           19  ...            2282502.0        0.0      1.0\n",
              "17           0   59           34  ...            2384692.0        0.0      1.0\n",
              "20           1   44           20  ...            1001650.0        0.0      1.0\n",
              "...        ...  ...          ...  ...                  ...        ...      ...\n",
              "214958       0   55           34  ...            1942193.0        1.0      0.0\n",
              "122923       1   31           19  ...            3605087.0        0.0      0.0\n",
              "2501         1   25            5  ...            1688792.0        1.0      0.0\n",
              "153116       0   46           19  ...            1492449.0        1.0      0.0\n",
              "97534        0   43           21  ...             580573.0        0.0      0.0\n",
              "\n",
              "[190200 rows x 10 columns]"
            ]
          },
          "metadata": {
            "tags": []
          },
          "execution_count": 439
        }
      ]
    },
    {
      "cell_type": "code",
      "metadata": {
        "execution": {
          "iopub.status.busy": "2021-05-28T19:06:35.843885Z",
          "iopub.execute_input": "2021-05-28T19:06:35.844387Z",
          "iopub.status.idle": "2021-05-28T19:06:36.029933Z",
          "shell.execute_reply.started": "2021-05-28T19:06:35.844359Z",
          "shell.execute_reply": "2021-05-28T19:06:36.029379Z"
        },
        "trusted": true,
        "id": "thNnho9bH40a"
      },
      "source": [
        "#Standardizing value of x by using standardscaler to make the data normally distributed\n",
        "sc = StandardScaler()\n",
        "df_xc = pd.DataFrame(sc.fit_transform(xc),columns=xc.columns)"
      ],
      "execution_count": null,
      "outputs": []
    },
    {
      "cell_type": "markdown",
      "metadata": {
        "id": "coNJrOkuXtPB"
      },
      "source": [
        "#4. Classification Modelling :"
      ]
    },
    {
      "cell_type": "code",
      "metadata": {
        "id": "JkVK-lo8eAsn"
      },
      "source": [
        "#Importing necessary libraries\n",
        "from sklearn import metrics\n",
        "from scipy.stats import zscore\n",
        "from sklearn.preprocessing import LabelEncoder,StandardScaler\n",
        "from sklearn.model_selection import train_test_split,GridSearchCV\n",
        "from sklearn.decomposition import PCA\n",
        "from sklearn.metrics import precision_score, recall_score, confusion_matrix, f1_score, roc_auc_score, roc_curve\n",
        "from sklearn.metrics import accuracy_score,classification_report,confusion_matrix,roc_auc_score,roc_curve\n",
        "from sklearn.metrics import auc\n",
        "from sklearn.metrics import plot_roc_curve\n",
        "from sklearn.linear_model import LogisticRegression\n",
        "from sklearn.naive_bayes import MultinomialNB\n",
        "from sklearn.neighbors import KNeighborsClassifier\n",
        "from sklearn.ensemble import RandomForestClassifier\n",
        "from sklearn.svm import SVC\n",
        "from sklearn.tree import DecisionTreeClassifier\n",
        "from sklearn.ensemble import AdaBoostClassifier,GradientBoostingClassifier\n",
        "from sklearn.model_selection import cross_val_score\n",
        "from sklearn.naive_bayes import GaussianNB\n",
        "\n",
        "#Import warnings\n",
        "import warnings\n",
        "warnings.filterwarnings('ignore')"
      ],
      "execution_count": null,
      "outputs": []
    },
    {
      "cell_type": "code",
      "metadata": {
        "execution": {
          "iopub.status.busy": "2021-05-28T19:06:40.160501Z",
          "iopub.execute_input": "2021-05-28T19:06:40.160980Z",
          "iopub.status.idle": "2021-05-28T19:06:40.169121Z",
          "shell.execute_reply.started": "2021-05-28T19:06:40.160953Z",
          "shell.execute_reply": "2021-05-28T19:06:40.167984Z"
        },
        "trusted": true,
        "id": "39Ke-E-yH40b"
      },
      "source": [
        "#defining a function to find fit of the model\n",
        "\n",
        "def max_accuracy_scr(names,model_c,df_xc,yc):\n",
        "    accuracy_scr_max = 0\n",
        "    roc_scr_max=0\n",
        "    train_xc,test_xc,train_yc,test_yc = train_test_split(df_xc,yc,random_state = 42,test_size = 0.2,stratify = yc)\n",
        "    model_c.fit(train_xc,train_yc)\n",
        "    pred = model_c.predict_proba(test_xc)[:, 1]\n",
        "    roc_score = roc_auc_score(test_yc, pred)\n",
        "    accuracy_scr = accuracy_score(test_yc,model_c.predict(test_xc))\n",
        "    if roc_score> roc_scr_max:\n",
        "      roc_scr_max=roc_score\n",
        "      final_model = model_c\n",
        "      mean_acc = cross_val_score(final_model,df_xc,yc,cv=5,scoring=\"accuracy\").mean()\n",
        "      std_dev = cross_val_score(final_model,df_xc,yc,cv=5,scoring=\"accuracy\").std()\n",
        "      cross_val = cross_val_score(final_model,df_xc,yc,cv=5,scoring=\"accuracy\")\n",
        "    print(\"*\"*50)\n",
        "    print(\"Results for model : \",names,'\\n',\n",
        "          \"max roc score correspond to random state \" ,roc_scr_max ,'\\n',\n",
        "          \"Mean accuracy score is : \",mean_acc,'\\n',\n",
        "          \"Std deviation score is : \",std_dev,'\\n',\n",
        "          \"Cross validation scores are :  \" ,cross_val) \n",
        "    print(f\"roc_auc_score: {roc_score}\")\n",
        "    print(\"*\"*50)"
      ],
      "execution_count": null,
      "outputs": []
    },
    {
      "cell_type": "code",
      "metadata": {
        "execution": {
          "iopub.status.busy": "2021-05-28T19:09:22.616851Z",
          "iopub.execute_input": "2021-05-28T19:09:22.617196Z"
        },
        "trusted": true,
        "colab": {
          "base_uri": "https://localhost:8080/"
        },
        "id": "rOyXSpHsH40d",
        "outputId": "a2e05c8e-0c45-44c4-a439-cbcba45d659f"
      },
      "source": [
        "#Now by using multiple Algorithms we are calculating the best Algo which performs best for our data set \n",
        "accuracy_scr_max = []\n",
        "models=[]\n",
        "#accuracy=[]\n",
        "std_dev=[]\n",
        "roc_auc=[]\n",
        "mean_acc=[]\n",
        "cross_val=[]\n",
        "models.append(('Logistic Regression', LogisticRegression()))\n",
        "models.append(('Random Forest', RandomForestClassifier()))\n",
        "models.append(('Decision Tree Classifier',DecisionTreeClassifier()))\n",
        "models.append((\"GausianNB\",GaussianNB()))\n",
        "\n",
        "for names,model_c in models:\n",
        "    max_accuracy_scr(names,model_c,df_xc,yc)\n",
        "\n"
      ],
      "execution_count": null,
      "outputs": [
        {
          "output_type": "stream",
          "text": [
            "**************************************************\n",
            "Results for model :  Logistic Regression \n",
            " max roc score correspond to random state  0.7288273374448945 \n",
            " Mean accuracy score is :  0.717907465825447 \n",
            " Std deviation score is :  0.0007424985675671879 \n",
            " Cross validation scores are :   [0.71869085 0.71779706 0.71829653 0.71653523 0.71821767]\n",
            "roc_auc_score: 0.7288273374448945\n",
            "**************************************************\n",
            "**************************************************\n",
            "Results for model :  Random Forest \n",
            " max roc score correspond to random state  0.9103159223273194 \n",
            " Mean accuracy score is :  0.8655573080967403 \n",
            " Std deviation score is :  0.022151429391755687 \n",
            " Cross validation scores are :   [0.89014196 0.85312829 0.84700315 0.84508412 0.89374343]\n",
            "roc_auc_score: 0.9103159223273194\n",
            "**************************************************\n",
            "**************************************************\n",
            "Results for model :  Decision Tree Classifier \n",
            " max roc score correspond to random state  0.7858438485804417 \n",
            " Mean accuracy score is :  0.8191272344900105 \n",
            " Std deviation score is :  0.020662491337607482 \n",
            " Cross validation scores are :   [0.83859096 0.81067298 0.79705573 0.79773922 0.8457939 ]\n",
            "roc_auc_score: 0.7858438485804417\n",
            "**************************************************\n",
            "**************************************************\n",
            "Results for model :  GausianNB \n",
            " max roc score correspond to random state  0.8001478333449432 \n",
            " Mean accuracy score is :  0.7426761303890641 \n",
            " Std deviation score is :  0.002124210051088426 \n",
            " Cross validation scores are :   [0.74626709 0.74327024 0.73977392 0.74185068 0.74221872]\n",
            "roc_auc_score: 0.8001478333449432\n",
            "**************************************************\n"
          ],
          "name": "stdout"
        }
      ]
    },
    {
      "cell_type": "markdown",
      "metadata": {
        "id": "BPXNIFTfcBJe"
      },
      "source": [
        "**Observation:**\n",
        "From initial model values RandomForest is performing better than others."
      ]
    },
    {
      "cell_type": "markdown",
      "metadata": {
        "id": "dbe8Gz5lfn_-"
      },
      "source": [
        "## First Attempt:Random Forest Classifier"
      ]
    },
    {
      "cell_type": "code",
      "metadata": {
        "id": "VfEDBkGMH40f",
        "colab": {
          "base_uri": "https://localhost:8080/"
        },
        "outputId": "112667a8-707c-492c-e432-a6e7e3c31ad2"
      },
      "source": [
        "# Estimating best n_estimator using grid search for Randomforest Classifier\n",
        "parameters={\"n_estimators\":[1,10,100]}\n",
        "rf_clf=RandomForestClassifier()\n",
        "clf = GridSearchCV(rf_clf, parameters, cv=5,scoring=\"roc_auc\")\n",
        "clf.fit(df_xc,yc)\n",
        "print(\"Best parameter : \",clf.best_params_,\"\\nBest Estimator : \", clf.best_estimator_,\"\\nBest Score : \", clf.best_score_)"
      ],
      "execution_count": null,
      "outputs": [
        {
          "output_type": "stream",
          "text": [
            "Best parameter :  {'n_estimators': 100} \n",
            "Best Estimator :  RandomForestClassifier(bootstrap=True, ccp_alpha=0.0, class_weight=None,\n",
            "                       criterion='gini', max_depth=None, max_features='auto',\n",
            "                       max_leaf_nodes=None, max_samples=None,\n",
            "                       min_impurity_decrease=0.0, min_impurity_split=None,\n",
            "                       min_samples_leaf=1, min_samples_split=2,\n",
            "                       min_weight_fraction_leaf=0.0, n_estimators=100,\n",
            "                       n_jobs=None, oob_score=False, random_state=None,\n",
            "                       verbose=0, warm_start=False) \n",
            "Best Score :  0.913380565596732\n"
          ],
          "name": "stdout"
        }
      ]
    },
    {
      "cell_type": "code",
      "metadata": {
        "colab": {
          "base_uri": "https://localhost:8080/"
        },
        "id": "8KIoCmHSH40g",
        "outputId": "3b73d902-eae5-4507-a99f-e1e1f05c7e88"
      },
      "source": [
        "#Again running RFC with n_estimator = 100\n",
        "rf_clf=RandomForestClassifier(n_estimators=100,random_state=42)\n",
        "max_accuracy_scr(\"RandomForest Classifier\",rf_clf,df_xc,yc)"
      ],
      "execution_count": null,
      "outputs": [
        {
          "output_type": "stream",
          "text": [
            "**************************************************\n",
            "Results for model :  RandomForest Classifier \n",
            " max roc score correspond to random state  0.9105082179392769 \n",
            " Mean accuracy score is :  0.8657150368033648 \n",
            " Std deviation score is :  0.02180289261334414 \n",
            " Cross validation scores are :   [0.8893796  0.85207676 0.84610936 0.84600421 0.89500526]\n",
            "roc_auc_score: 0.9105082179392769\n",
            "**************************************************\n"
          ],
          "name": "stdout"
        }
      ]
    },
    {
      "cell_type": "code",
      "metadata": {
        "id": "Od4vS_iQH40g"
      },
      "source": [
        "xc_train,xc_test,yc_train,yc_test=train_test_split(df_xc, yc,random_state = 80,test_size=0.20,stratify=yc)\n",
        "rf_clf.fit(xc_train,yc_train)\n",
        "yc_pred=rf_clf.predict(xc_test)"
      ],
      "execution_count": null,
      "outputs": []
    },
    {
      "cell_type": "code",
      "metadata": {
        "colab": {
          "base_uri": "https://localhost:8080/",
          "height": 546
        },
        "id": "N1HYyCLWH40g",
        "outputId": "13218a5f-2f86-44a1-bc8a-6c65cdbc63f3"
      },
      "source": [
        "#  Random Forest Classifier Results\n",
        "\n",
        "pred_pb=rf_clf.predict_proba(xc_test)[:,1]\n",
        "Fpr,Tpr,thresholds = roc_curve(yc_test,pred_pb,pos_label=True)\n",
        "auc = roc_auc_score(yc_test,pred_pb)\n",
        "\n",
        "print(\" ROC_AUC score is \",auc)\n",
        "print(\"accuracy score is : \",accuracy_score(yc_test,yc_pred))\n",
        "print(\"Precision is : \" ,precision_score(yc_test, yc_pred))\n",
        "print(\"Recall is: \" ,recall_score(yc_test, yc_pred))\n",
        "print(\"F1 Score is : \" ,f1_score(yc_test, yc_pred))\n",
        "print(\"classification report \\n\",classification_report(yc_test,yc_pred))\n",
        "\n",
        "#Plotting confusion matrix\n",
        "cnf = confusion_matrix(yc_test,yc_pred)\n",
        "sns.heatmap(cnf, annot=True, cmap = \"magma\")"
      ],
      "execution_count": null,
      "outputs": [
        {
          "output_type": "stream",
          "text": [
            " ROC_AUC score is  0.9123239406178785\n",
            "accuracy score is :  0.8646950578338591\n",
            "Precision is :  0.846217483224561\n",
            "Recall is:  0.72602523659306\n",
            "F1 Score is :  0.7815272295088925\n",
            "classification report \n",
            "               precision    recall  f1-score   support\n",
            "\n",
            "         0.0       0.87      0.93      0.90     25360\n",
            "         1.0       0.85      0.73      0.78     12680\n",
            "\n",
            "    accuracy                           0.86     38040\n",
            "   macro avg       0.86      0.83      0.84     38040\n",
            "weighted avg       0.86      0.86      0.86     38040\n",
            "\n"
          ],
          "name": "stdout"
        },
        {
          "output_type": "display_data",
          "data": {
            "image/png": "[encoded data removed]",
            "text/plain": [
              "<Figure size 432x288 with 2 Axes>"
            ]
          },
          "metadata": {
            "tags": [],
            "needs_background": "light"
          }
        }
      ]
    },
    {
      "cell_type": "code",
      "metadata": {
        "colab": {
          "base_uri": "https://localhost:8080/",
          "height": 296
        },
        "id": "yEpHYZLuH40h",
        "outputId": "505c99ff-9489-4242-970c-e8310fd1d194"
      },
      "source": [
        "#plotting the graph for area under curve for representing accuracy of data\n",
        "plt.plot([0,1],[1,0],'g--')\n",
        "plt.plot(Fpr,Tpr)\n",
        "plt.xlabel('False_Positive_Rate')\n",
        "plt.ylabel('True_Positive_Rate')\n",
        "plt.title(\"Random Forest Classifier\")\n",
        "plt.show()"
      ],
      "execution_count": null,
      "outputs": [
        {
          "output_type": "display_data",
          "data": {
            "image/png": "[encoded data removed]",
            "text/plain": [
              "<Figure size 432x288 with 1 Axes>"
            ]
          },
          "metadata": {
            "tags": [],
            "needs_background": "light"
          }
        }
      ]
    },
    {
      "cell_type": "markdown",
      "metadata": {
        "id": "l8qArnzps1yH"
      },
      "source": [
        "### Observation - Random Forest Model\n",
        "\n",
        "\n",
        "\n",
        "*   Taken output variable as Is_Lead(transformed into probablistic value between 1 and 0)\n",
        "*    base model selected is Random Forest (selected on basis of aoc_roc score) which provides max ROC score of 0.91\n",
        "\n",
        "* Plotted AOC/ROC line that shows good match between test and predicted values.\n",
        "\n",
        "* Also plotted confusion matrix, Overall model fit is good. \n",
        "* However, as the predicted probability was meaned in RF model upto 2 decimal places the resultant AUC score with test data was found to be ~ 0.85"
      ]
    },
    {
      "cell_type": "markdown",
      "metadata": {
        "id": "-u5nKLJWgLBA"
      },
      "source": [
        "## Second Attempt: XG Boost Classifer"
      ]
    },
    {
      "cell_type": "markdown",
      "metadata": {
        "id": "U-6qr4G7gRwp"
      },
      "source": [
        "*To boost the accuracy and roc_auc score . I attempted to use XG Boost Classifier as it is inherently well suited for imbalance classification problems*"
      ]
    },
    {
      "cell_type": "code",
      "metadata": {
        "id": "qmOfAXwPO4M6"
      },
      "source": [
        "#Trying XGBoost\n",
        "import xgboost as xg\n",
        "from xgboost import XGBClassifier\n",
        "from sklearn.utils import class_weight\n",
        "\n",
        "clf2 = xg.XGBClassifier(class_weight='balanced').fit(xc_train, yc_train)\n",
        "class_weight.compute_class_weight('balanced', np.unique(yc_train), yc_train[\"Is_Lead\"])\n",
        "xg_pred = clf2.predict(xc_test)\n"
      ],
      "execution_count": null,
      "outputs": []
    },
    {
      "cell_type": "code",
      "metadata": {
        "colab": {
          "base_uri": "https://localhost:8080/",
          "height": 532
        },
        "id": "42pojq4ZgmMm",
        "outputId": "faed3d15-63ef-437f-b3f4-6a1bf9c32450"
      },
      "source": [
        "#XG Boost Results\n",
        "xg_pred_2=clf2.predict_proba(xc_test)[:,1]\n",
        "Fpr,Tpr,thresholds = roc_curve(yc_test,xg_pred_2,pos_label=True)\n",
        "auc = roc_auc_score(yc_test,xg_pred_2)\n",
        "\n",
        "print(\" ROC_AUC score is \",auc)\n",
        "print(\"accuracy score is : \",accuracy_score(yc_test,xg_pred))\n",
        "print(\"Precision is : \" ,precision_score(yc_test, xg_pred))\n",
        "print(\"Recall is: \" ,recall_score(yc_test, xg_pred))\n",
        "print(\"F1 Score is : \" ,f1_score(yc_test, xg_pred))\n",
        "print(\"classification report \\n\",classification_report(yc_test,xg_pred))\n",
        "\n",
        "cnf = confusion_matrix(yc_test,xg_pred)\n",
        "sns.heatmap(cnf, annot=True, cmap = \"magma\")"
      ],
      "execution_count": null,
      "outputs": [
        {
          "output_type": "stream",
          "text": [
            " ROC_AUC score is  0.8740769527634864\n",
            "accuracy score is :  0.8298107255520505\n",
            "Precision is :  0.793289224952741\n",
            "Recall is:  0.6619085173501578\n",
            "F1 Score is :  0.7216680997420464\n",
            "classification report \n",
            "               precision    recall  f1-score   support\n",
            "\n",
            "         0.0       0.84      0.91      0.88     25360\n",
            "         1.0       0.79      0.66      0.72     12680\n",
            "\n",
            "    accuracy                           0.83     38040\n",
            "   macro avg       0.82      0.79      0.80     38040\n",
            "weighted avg       0.83      0.83      0.83     38040\n",
            "\n"
          ],
          "name": "stdout"
        },
        {
          "output_type": "execute_result",
          "data": {
            "text/plain": [
              "<matplotlib.axes._subplots.AxesSubplot at 0x7fe22ac3b5d0>"
            ]
          },
          "metadata": {
            "tags": []
          },
          "execution_count": 480
        },
        {
          "output_type": "display_data",
          "data": {
            "image/png": "[encoded data removed]",
            "text/plain": [
              "<Figure size 432x288 with 2 Axes>"
            ]
          },
          "metadata": {
            "tags": [],
            "needs_background": "light"
          }
        }
      ]
    },
    {
      "cell_type": "code",
      "metadata": {
        "colab": {
          "base_uri": "https://localhost:8080/",
          "height": 296
        },
        "id": "1yemmspFPMNt",
        "outputId": "e3630091-b005-4fb1-e823-71b27abf8e20"
      },
      "source": [
        "#plotting the graph for area under curve for representing accuracy of data\n",
        "plt.plot([0,1],[1,0],'g--')\n",
        "plt.plot(Fpr,Tpr)\n",
        "plt.xlabel('False_Positive_Rate')\n",
        "plt.ylabel('True_Positive_Rate')\n",
        "plt.title(\"XG_Boost Classifier\")\n",
        "plt.show()"
      ],
      "execution_count": null,
      "outputs": [
        {
          "output_type": "display_data",
          "data": {
            "image/png": "[encoded data removed]",
            "text/plain": [
              "<Figure size 432x288 with 1 Axes>"
            ]
          },
          "metadata": {
            "tags": [],
            "needs_background": "light"
          }
        }
      ]
    },
    {
      "cell_type": "markdown",
      "metadata": {
        "id": "6uKdQ_Zutvk_"
      },
      "source": [
        "### Observation - XG Boost Model\n",
        "\n",
        "\n",
        "\n",
        "*   Taken output variable as Is_Lead(transformed into probablistic value between 1 and 0)\n",
        "*    base model selected is XG Boost Classifer selected to boost accuracy in imbalanced class classification program.\n",
        "\n",
        "* Plotted AOC/ROC line that shows good match between test and predicted values.\n",
        "\n",
        "* Max ROC score is 0.87, Overall model fit is good. \n",
        "\n",
        "* However, XG boost auc score with test data dropped to ~ 0.86 due to overfitting issues."
      ]
    },
    {
      "cell_type": "markdown",
      "metadata": {
        "id": "TI2qKClbhPIy"
      },
      "source": [
        "## Third Attempt: LGBM Model with Stratification Folds"
      ]
    },
    {
      "cell_type": "markdown",
      "metadata": {
        "id": "nB4WjusGhZmA"
      },
      "source": [
        "*To avoid the issue of overfitting in dataset. I decided to implement stratification folds and also use LGB model for finding classification based probabilities.*"
      ]
    },
    {
      "cell_type": "code",
      "metadata": {
        "id": "aCiiUrKjnkyW"
      },
      "source": [
        "#Trying stratification modeling\n",
        "from sklearn.model_selection import KFold, StratifiedKFold\n",
        "\n",
        "def cross_val(xc, yc, model, params, folds=10):\n",
        "\n",
        "    skf = StratifiedKFold(n_splits=folds, shuffle=True, random_state=42)\n",
        "    for fold, (train_idx, test_idx) in enumerate(skf.split(xc, yc)):\n",
        "        print(f\"Fold: {fold}\")\n",
        "        xc_train, yc_train = xc.iloc[train_idx], yc.iloc[train_idx]\n",
        "        xc_test, yc_test = xc.iloc[test_idx], yc.iloc[test_idx]\n",
        "\n",
        "        model_c= model(**params)\n",
        "        model_c.fit(xc_train, yc_train,eval_set=[(xc_test, yc_test)],early_stopping_rounds=100, verbose=300)\n",
        "\n",
        "        pred_y = model_c.predict_proba(xc_test)[:, 1]\n",
        "        roc_score = roc_auc_score(yc_test, pred_y)\n",
        "        print(f\"roc_auc_score: {roc_score}\")\n",
        "        print(\"-\"*50)\n",
        "    \n",
        "    return model_c"
      ],
      "execution_count": null,
      "outputs": []
    },
    {
      "cell_type": "code",
      "metadata": {
        "colab": {
          "base_uri": "https://localhost:8080/"
        },
        "id": "BdqwRo_Qo-bQ",
        "outputId": "ba190072-3d7c-4d28-b55d-106ee37d640c"
      },
      "source": [
        "#Applying LGBM Model with 10 stratified cross-folds\n",
        "from lightgbm import LGBMClassifier\n",
        "\n",
        "lgb_params= {'learning_rate': 0.045, 'n_estimators': 10000,'max_bin': 84,'num_leaves': 10,'max_depth': 20,'reg_alpha': 8.457,'reg_lambda': 6.853,'subsample': 0.749}\n",
        "lgb_model = cross_val(xc, yc, LGBMClassifier, lgb_params)"
      ],
      "execution_count": null,
      "outputs": [
        {
          "output_type": "stream",
          "text": [
            "Fold: 0\n",
            "Training until validation scores don't improve for 100 rounds.\n",
            "[300]\tvalid_0's binary_logloss: 0.395374\n",
            "[600]\tvalid_0's binary_logloss: 0.394525\n",
            "[900]\tvalid_0's binary_logloss: 0.394131\n",
            "[1200]\tvalid_0's binary_logloss: 0.393572\n",
            "[1500]\tvalid_0's binary_logloss: 0.393323\n",
            "[1800]\tvalid_0's binary_logloss: 0.393151\n",
            "[2100]\tvalid_0's binary_logloss: 0.392978\n",
            "[2400]\tvalid_0's binary_logloss: 0.392749\n",
            "Early stopping, best iteration is:\n",
            "[2561]\tvalid_0's binary_logloss: 0.392694\n",
            "roc_auc_score: 0.8759501537481714\n",
            "--------------------------------------------------\n",
            "Fold: 1\n",
            "Training until validation scores don't improve for 100 rounds.\n",
            "[300]\tvalid_0's binary_logloss: 0.394509\n",
            "[600]\tvalid_0's binary_logloss: 0.393751\n",
            "[900]\tvalid_0's binary_logloss: 0.393328\n",
            "[1200]\tvalid_0's binary_logloss: 0.393054\n",
            "[1500]\tvalid_0's binary_logloss: 0.392698\n",
            "[1800]\tvalid_0's binary_logloss: 0.392535\n",
            "[2100]\tvalid_0's binary_logloss: 0.392387\n",
            "[2400]\tvalid_0's binary_logloss: 0.392143\n",
            "[2700]\tvalid_0's binary_logloss: 0.391932\n",
            "[3000]\tvalid_0's binary_logloss: 0.391697\n",
            "[3300]\tvalid_0's binary_logloss: 0.391594\n",
            "[3600]\tvalid_0's binary_logloss: 0.391504\n",
            "[3900]\tvalid_0's binary_logloss: 0.391317\n",
            "[4200]\tvalid_0's binary_logloss: 0.391105\n",
            "Early stopping, best iteration is:\n",
            "[4396]\tvalid_0's binary_logloss: 0.391038\n",
            "roc_auc_score: 0.8793775500303517\n",
            "--------------------------------------------------\n",
            "Fold: 2\n",
            "Training until validation scores don't improve for 100 rounds.\n",
            "[300]\tvalid_0's binary_logloss: 0.403371\n",
            "[600]\tvalid_0's binary_logloss: 0.402582\n",
            "[900]\tvalid_0's binary_logloss: 0.402244\n",
            "[1200]\tvalid_0's binary_logloss: 0.401998\n",
            "[1500]\tvalid_0's binary_logloss: 0.401488\n",
            "[1800]\tvalid_0's binary_logloss: 0.401285\n",
            "[2100]\tvalid_0's binary_logloss: 0.401134\n",
            "[2400]\tvalid_0's binary_logloss: 0.40097\n",
            "[2700]\tvalid_0's binary_logloss: 0.40082\n",
            "[3000]\tvalid_0's binary_logloss: 0.400576\n",
            "[3300]\tvalid_0's binary_logloss: 0.400391\n",
            "[3600]\tvalid_0's binary_logloss: 0.400282\n",
            "[3900]\tvalid_0's binary_logloss: 0.400058\n",
            "Early stopping, best iteration is:\n",
            "[3997]\tvalid_0's binary_logloss: 0.400011\n",
            "roc_auc_score: 0.8728419715093194\n",
            "--------------------------------------------------\n",
            "Fold: 3\n",
            "Training until validation scores don't improve for 100 rounds.\n",
            "[300]\tvalid_0's binary_logloss: 0.396062\n",
            "[600]\tvalid_0's binary_logloss: 0.395219\n",
            "[900]\tvalid_0's binary_logloss: 0.394592\n",
            "[1200]\tvalid_0's binary_logloss: 0.394243\n",
            "[1500]\tvalid_0's binary_logloss: 0.393926\n",
            "[1800]\tvalid_0's binary_logloss: 0.39366\n",
            "Early stopping, best iteration is:\n",
            "[1893]\tvalid_0's binary_logloss: 0.393588\n",
            "roc_auc_score: 0.8772219844958153\n",
            "--------------------------------------------------\n",
            "Fold: 4\n",
            "Training until validation scores don't improve for 100 rounds.\n",
            "[300]\tvalid_0's binary_logloss: 0.397749\n",
            "[600]\tvalid_0's binary_logloss: 0.397009\n",
            "[900]\tvalid_0's binary_logloss: 0.396484\n",
            "[1200]\tvalid_0's binary_logloss: 0.39626\n",
            "[1500]\tvalid_0's binary_logloss: 0.395984\n",
            "[1800]\tvalid_0's binary_logloss: 0.395808\n",
            "Early stopping, best iteration is:\n",
            "[1985]\tvalid_0's binary_logloss: 0.395623\n",
            "roc_auc_score: 0.8749483463364149\n",
            "--------------------------------------------------\n",
            "Fold: 5\n",
            "Training until validation scores don't improve for 100 rounds.\n",
            "[300]\tvalid_0's binary_logloss: 0.396022\n",
            "[600]\tvalid_0's binary_logloss: 0.39518\n",
            "[900]\tvalid_0's binary_logloss: 0.394692\n",
            "[1200]\tvalid_0's binary_logloss: 0.394318\n",
            "[1500]\tvalid_0's binary_logloss: 0.394035\n",
            "[1800]\tvalid_0's binary_logloss: 0.393834\n",
            "[2100]\tvalid_0's binary_logloss: 0.393606\n",
            "[2400]\tvalid_0's binary_logloss: 0.393366\n",
            "[2700]\tvalid_0's binary_logloss: 0.393196\n",
            "[3000]\tvalid_0's binary_logloss: 0.39311\n",
            "Early stopping, best iteration is:\n",
            "[3183]\tvalid_0's binary_logloss: 0.393047\n",
            "roc_auc_score: 0.8757610472290499\n",
            "--------------------------------------------------\n",
            "Fold: 6\n",
            "Training until validation scores don't improve for 100 rounds.\n",
            "[300]\tvalid_0's binary_logloss: 0.397747\n",
            "[600]\tvalid_0's binary_logloss: 0.397236\n",
            "[900]\tvalid_0's binary_logloss: 0.396833\n",
            "[1200]\tvalid_0's binary_logloss: 0.396463\n",
            "[1500]\tvalid_0's binary_logloss: 0.396264\n",
            "[1800]\tvalid_0's binary_logloss: 0.395892\n",
            "[2100]\tvalid_0's binary_logloss: 0.395635\n",
            "[2400]\tvalid_0's binary_logloss: 0.395404\n",
            "[2700]\tvalid_0's binary_logloss: 0.395249\n",
            "[3000]\tvalid_0's binary_logloss: 0.395113\n",
            "[3300]\tvalid_0's binary_logloss: 0.394901\n",
            "Early stopping, best iteration is:\n",
            "[3290]\tvalid_0's binary_logloss: 0.394888\n",
            "roc_auc_score: 0.8761173922021315\n",
            "--------------------------------------------------\n",
            "Fold: 7\n",
            "Training until validation scores don't improve for 100 rounds.\n",
            "[300]\tvalid_0's binary_logloss: 0.395601\n",
            "[600]\tvalid_0's binary_logloss: 0.394948\n",
            "[900]\tvalid_0's binary_logloss: 0.394692\n",
            "Early stopping, best iteration is:\n",
            "[886]\tvalid_0's binary_logloss: 0.394678\n",
            "roc_auc_score: 0.8770827777169642\n",
            "--------------------------------------------------\n",
            "Fold: 8\n",
            "Training until validation scores don't improve for 100 rounds.\n",
            "[300]\tvalid_0's binary_logloss: 0.401178\n",
            "[600]\tvalid_0's binary_logloss: 0.400544\n",
            "[900]\tvalid_0's binary_logloss: 0.40005\n",
            "[1200]\tvalid_0's binary_logloss: 0.399807\n",
            "[1500]\tvalid_0's binary_logloss: 0.399501\n",
            "[1800]\tvalid_0's binary_logloss: 0.399271\n",
            "Early stopping, best iteration is:\n",
            "[1794]\tvalid_0's binary_logloss: 0.399268\n",
            "roc_auc_score: 0.8732457594861129\n",
            "--------------------------------------------------\n",
            "Fold: 9\n",
            "Training until validation scores don't improve for 100 rounds.\n",
            "[300]\tvalid_0's binary_logloss: 0.392904\n",
            "[600]\tvalid_0's binary_logloss: 0.392555\n",
            "[900]\tvalid_0's binary_logloss: 0.392248\n",
            "[1200]\tvalid_0's binary_logloss: 0.392035\n",
            "[1500]\tvalid_0's binary_logloss: 0.391846\n",
            "[1800]\tvalid_0's binary_logloss: 0.391645\n",
            "[2100]\tvalid_0's binary_logloss: 0.391485\n",
            "[2400]\tvalid_0's binary_logloss: 0.391331\n",
            "[2700]\tvalid_0's binary_logloss: 0.391241\n",
            "[3000]\tvalid_0's binary_logloss: 0.391107\n",
            "[3300]\tvalid_0's binary_logloss: 0.390946\n",
            "[3600]\tvalid_0's binary_logloss: 0.390817\n",
            "Early stopping, best iteration is:\n",
            "[3590]\tvalid_0's binary_logloss: 0.39081\n",
            "roc_auc_score: 0.8778998758570591\n",
            "--------------------------------------------------\n"
          ],
          "name": "stdout"
        }
      ]
    },
    {
      "cell_type": "code",
      "metadata": {
        "colab": {
          "base_uri": "https://localhost:8080/",
          "height": 532
        },
        "id": "Tk6J6q5Hs8od",
        "outputId": "140c19a1-4f3a-42db-f9d1-caf246249608"
      },
      "source": [
        "#LGBM results\n",
        "lgb_pred_2=clf2.predict_proba(xc_test)[:,1]\n",
        "Fpr,Tpr,thresholds = roc_curve(yc_test,lgb_pred_2,pos_label=True)\n",
        "auc = roc_auc_score(yc_test,lgb_pred_2)\n",
        "\n",
        "print(\" ROC_AUC score is \",auc)\n",
        "lgb_model.fit(xc_train,yc_train)\n",
        "lgb_pred=lgb_model.predict(xc_test)\n",
        "print(\"accuracy score is : \",accuracy_score(yc_test,lgb_pred))\n",
        "print(\"Precision is : \" ,precision_score(yc_test, lgb_pred))\n",
        "print(\"Recall is: \" ,recall_score(yc_test, lgb_pred))\n",
        "print(\"F1 Score is : \" ,f1_score(yc_test, lgb_pred))\n",
        "print(\"classification report \\n\",classification_report(yc_test,lgb_pred))\n",
        "\n",
        "cnf = confusion_matrix(yc_test,lgb_pred)\n",
        "sns.heatmap(cnf, annot=True, cmap = \"magma\")"
      ],
      "execution_count": null,
      "outputs": [
        {
          "output_type": "stream",
          "text": [
            " ROC_AUC score is  0.8740769527634864\n",
            "accuracy score is :  0.8318349106203996\n",
            "Precision is :  0.7919338351454326\n",
            "Recall is:  0.6720820189274448\n",
            "F1 Score is :  0.7271020860884775\n",
            "classification report \n",
            "               precision    recall  f1-score   support\n",
            "\n",
            "         0.0       0.85      0.91      0.88     25360\n",
            "         1.0       0.79      0.67      0.73     12680\n",
            "\n",
            "    accuracy                           0.83     38040\n",
            "   macro avg       0.82      0.79      0.80     38040\n",
            "weighted avg       0.83      0.83      0.83     38040\n",
            "\n"
          ],
          "name": "stdout"
        },
        {
          "output_type": "execute_result",
          "data": {
            "text/plain": [
              "<matplotlib.axes._subplots.AxesSubplot at 0x7fe22ac6c450>"
            ]
          },
          "metadata": {
            "tags": []
          },
          "execution_count": 491
        },
        {
          "output_type": "display_data",
          "data": {
            "image/png": "[encoded data removed]",
            "text/plain": [
              "<Figure size 432x288 with 2 Axes>"
            ]
          },
          "metadata": {
            "tags": [],
            "needs_background": "light"
          }
        }
      ]
    },
    {
      "cell_type": "code",
      "metadata": {
        "colab": {
          "base_uri": "https://localhost:8080/",
          "height": 296
        },
        "id": "qvFDM6MHv4rm",
        "outputId": "d2fa1fa5-5d2f-48b8-947f-239c78a5a688"
      },
      "source": [
        "#plotting the graph for area under curve for representing accuracy of data\n",
        "plt.plot([0,1],[1,0],'g--')\n",
        "plt.plot(Fpr,Tpr)\n",
        "plt.xlabel('False_Positive_Rate')\n",
        "plt.ylabel('True_Positive_Rate')\n",
        "plt.title(\"LGB Classifier model\")\n",
        "plt.show()"
      ],
      "execution_count": null,
      "outputs": [
        {
          "output_type": "display_data",
          "data": {
            "image/png": "[encoded data removed]",
            "text/plain": [
              "<Figure size 432x288 with 1 Axes>"
            ]
          },
          "metadata": {
            "tags": [],
            "needs_background": "light"
          }
        }
      ]
    },
    {
      "cell_type": "markdown",
      "metadata": {
        "id": "BGtzsgwQuIDe"
      },
      "source": [
        "### Observation - LGBM Classifier with cross-validation\n",
        "\n",
        "\n",
        "\n",
        "*   Taken output variable as Is_Lead(transformed into probablistic value between 1 and 0)\n",
        "*    base model selected is LGBM classifier model along with stratified cross-validation of 10 folds .\n",
        "*  This was done to remove any overfitting issues in the model. \n",
        "\n",
        "* Plotted AOC/ROC line that shows good match between test and predicted values.\n",
        "\n",
        "* Max ROC score is 0.874"
      ]
    },
    {
      "cell_type": "markdown",
      "metadata": {
        "id": "Ru-OUUQUV4nL"
      },
      "source": [
        "# 5. Prediction"
      ]
    },
    {
      "cell_type": "markdown",
      "metadata": {
        "id": "xtImqREQm2_c"
      },
      "source": [
        "## Preparing Dataset for prediction"
      ]
    },
    {
      "cell_type": "code",
      "metadata": {
        "id": "mRKUucnQXWq3"
      },
      "source": [
        "#we can drop column as they are irrelevant and have no effect on our data\n",
        "df_3 = df_test\n"
      ],
      "execution_count": null,
      "outputs": []
    },
    {
      "cell_type": "code",
      "metadata": {
        "colab": {
          "base_uri": "https://localhost:8080/",
          "height": 197
        },
        "id": "Xhi_5PDGzAjp",
        "outputId": "4c02f75c-41b7-48d8-8748-8a46c1e1c997"
      },
      "source": [
        "df_3.drop(columns=[\"source\"],inplace=True)\n",
        "df_3.head()"
      ],
      "execution_count": null,
      "outputs": [
        {
          "output_type": "execute_result",
          "data": {
            "text/html": [
              "<div>\n",
              "<style scoped>\n",
              "    .dataframe tbody tr th:only-of-type {\n",
              "        vertical-align: middle;\n",
              "    }\n",
              "\n",
              "    .dataframe tbody tr th {\n",
              "        vertical-align: top;\n",
              "    }\n",
              "\n",
              "    .dataframe thead th {\n",
              "        text-align: right;\n",
              "    }\n",
              "</style>\n",
              "<table border=\"1\" class=\"dataframe\">\n",
              "  <thead>\n",
              "    <tr style=\"text-align: right;\">\n",
              "      <th></th>\n",
              "      <th>ID</th>\n",
              "      <th>Gender</th>\n",
              "      <th>Age</th>\n",
              "      <th>Region_Code</th>\n",
              "      <th>Occupation</th>\n",
              "      <th>Channel_Code</th>\n",
              "      <th>Vintage</th>\n",
              "      <th>Credit_Product</th>\n",
              "      <th>Avg_Account_Balance</th>\n",
              "      <th>Is_Active</th>\n",
              "      <th>Is_Lead</th>\n",
              "    </tr>\n",
              "  </thead>\n",
              "  <tbody>\n",
              "    <tr>\n",
              "      <th>267102</th>\n",
              "      <td>VBENBARO</td>\n",
              "      <td>1</td>\n",
              "      <td>29</td>\n",
              "      <td>5</td>\n",
              "      <td>2</td>\n",
              "      <td>0</td>\n",
              "      <td>25</td>\n",
              "      <td>2</td>\n",
              "      <td>742366.0</td>\n",
              "      <td>0.0</td>\n",
              "      <td>NaN</td>\n",
              "    </tr>\n",
              "    <tr>\n",
              "      <th>267103</th>\n",
              "      <td>CCMEWNKY</td>\n",
              "      <td>1</td>\n",
              "      <td>43</td>\n",
              "      <td>19</td>\n",
              "      <td>2</td>\n",
              "      <td>1</td>\n",
              "      <td>49</td>\n",
              "      <td>0</td>\n",
              "      <td>925537.0</td>\n",
              "      <td>0.0</td>\n",
              "      <td>NaN</td>\n",
              "    </tr>\n",
              "    <tr>\n",
              "      <th>267104</th>\n",
              "      <td>VK3KGA9M</td>\n",
              "      <td>1</td>\n",
              "      <td>31</td>\n",
              "      <td>21</td>\n",
              "      <td>3</td>\n",
              "      <td>0</td>\n",
              "      <td>14</td>\n",
              "      <td>1</td>\n",
              "      <td>215949.0</td>\n",
              "      <td>0.0</td>\n",
              "      <td>NaN</td>\n",
              "    </tr>\n",
              "    <tr>\n",
              "      <th>267105</th>\n",
              "      <td>TT8RPZVC</td>\n",
              "      <td>1</td>\n",
              "      <td>29</td>\n",
              "      <td>23</td>\n",
              "      <td>2</td>\n",
              "      <td>0</td>\n",
              "      <td>33</td>\n",
              "      <td>1</td>\n",
              "      <td>868070.0</td>\n",
              "      <td>0.0</td>\n",
              "      <td>NaN</td>\n",
              "    </tr>\n",
              "    <tr>\n",
              "      <th>267106</th>\n",
              "      <td>SHQZEYTZ</td>\n",
              "      <td>0</td>\n",
              "      <td>29</td>\n",
              "      <td>21</td>\n",
              "      <td>2</td>\n",
              "      <td>0</td>\n",
              "      <td>19</td>\n",
              "      <td>1</td>\n",
              "      <td>657087.0</td>\n",
              "      <td>0.0</td>\n",
              "      <td>NaN</td>\n",
              "    </tr>\n",
              "  </tbody>\n",
              "</table>\n",
              "</div>"
            ],
            "text/plain": [
              "              ID  Gender  Age  ...  Avg_Account_Balance  Is_Active  Is_Lead\n",
              "267102  VBENBARO       1   29  ...             742366.0        0.0      NaN\n",
              "267103  CCMEWNKY       1   43  ...             925537.0        0.0      NaN\n",
              "267104  VK3KGA9M       1   31  ...             215949.0        0.0      NaN\n",
              "267105  TT8RPZVC       1   29  ...             868070.0        0.0      NaN\n",
              "267106  SHQZEYTZ       0   29  ...             657087.0        0.0      NaN\n",
              "\n",
              "[5 rows x 11 columns]"
            ]
          },
          "metadata": {
            "tags": []
          },
          "execution_count": 504
        }
      ]
    },
    {
      "cell_type": "code",
      "metadata": {
        "id": "Yh-nhVECiZWE"
      },
      "source": [
        "# dropping target variable \n",
        "#assign the value of y for training and testing phase\n",
        "xc_pred = df_3.drop(columns=['Is_Lead',\"ID\"])\n",
        "\n",
        "#Standardizing value of x by using standardscaler to make the data normally distributed\n",
        "sc = StandardScaler()\n",
        "df_xc_pred = pd.DataFrame(sc.fit_transform(xc_pred),columns=xc_pred.columns)"
      ],
      "execution_count": null,
      "outputs": []
    },
    {
      "cell_type": "code",
      "metadata": {
        "colab": {
          "base_uri": "https://localhost:8080/"
        },
        "id": "-XOc5G_wV1Ym",
        "outputId": "15135312-9c78-40f6-99cb-5883c814fadb"
      },
      "source": [
        "lead_pred_xg=clf2.predict_proba(df_xc_pred)[:,1]\n",
        "lead_pred_lgb=lgb_model.predict_proba(df_xc_pred)[:,1]\n",
        "lead_pred_rf=rf_clf.predict_proba(df_xc_pred)[:,1]\n",
        "print(lead_pred_xg, lead_pred_lgb, lead_pred_rf)"
      ],
      "execution_count": null,
      "outputs": [
        {
          "output_type": "stream",
          "text": [
            "[0.0894194  0.8986605  0.0877608  ... 0.13629796 0.32178897 0.0790946 ] [0.0804745  0.87315406 0.0811676  ... 0.10317732 0.29637089 0.10768579] [0.01 0.97 0.01 ... 0.09 0.3  0.05]\n"
          ],
          "name": "stdout"
        }
      ]
    },
    {
      "cell_type": "code",
      "metadata": {
        "id": "UQkQslj5ivaN"
      },
      "source": [
        "#Dataframe for lead prediction\n",
        "lead_pred_lgb= pd.DataFrame(lead_pred_lgb,columns=[\"Is_Lead\"])\n",
        "lead_pred_xg= pd.DataFrame(lead_pred_xg,columns=[\"Is_Lead\"])\n",
        "lead_pred_rf= pd.DataFrame(lead_pred_rf,columns=[\"Is_Lead\"])"
      ],
      "execution_count": null,
      "outputs": []
    },
    {
      "cell_type": "code",
      "metadata": {
        "id": "oBfQOeUnkM2e"
      },
      "source": [
        "df_test = df_test.reset_index()\n",
        "df_test.head()"
      ],
      "execution_count": null,
      "outputs": []
    },
    {
      "cell_type": "code",
      "metadata": {
        "colab": {
          "base_uri": "https://localhost:8080/"
        },
        "id": "HkkzZ-uajOYr",
        "outputId": "994c4d7c-126e-4a46-cb05-c4811190bbd7"
      },
      "source": [
        "#Saving ID  and prediction to csv file for XG Model\n",
        "df_pred_xg=pd.concat([df_test[\"ID\"],lead_pred_xg],axis=1,ignore_index=True)\n",
        "df_pred_xg.columns = [\"ID\",\"Is_Lead\"]\n",
        "print(df_pred_xg.head())\n",
        "df_pred_xg.to_csv(\"Credit_Card_Lead_Predictions_final_xg.csv\",index=False)\n",
        "\n",
        "#Saving ID  and prediction to csv file for LGB Model\n",
        "df_pred_lgb=pd.concat([df_test[\"ID\"],lead_pred_lgb],axis=1,ignore_index=True)\n",
        "df_pred_lgb.columns = [\"ID\",\"Is_Lead\"]\n",
        "print(df_pred_lgb.head())\n",
        "df_pred_lgb.to_csv(\"Credit_Card_Lead_Predictions_final_lgb.csv\",index=False)\n",
        "\n",
        "#Saving ID  and prediction to csv file for RF model\n",
        "df_pred_rf=pd.concat([df_test[\"ID\"],lead_pred_rf],axis=1,ignore_index=True)\n",
        "df_pred_rf.columns = [\"ID\",\"Is_Lead\"]\n",
        "print(df_pred_rf.head())\n",
        "df_pred_rf.to_csv(\"Credit_Card_Lead_Predictions_final_rf.csv\",index=False)"
      ],
      "execution_count": null,
      "outputs": [
        {
          "output_type": "stream",
          "text": [
            "         ID   Is_Lead\n",
            "0  VBENBARO  0.089419\n",
            "1  CCMEWNKY  0.898660\n",
            "2  VK3KGA9M  0.087761\n",
            "3  TT8RPZVC  0.039810\n",
            "4  SHQZEYTZ  0.040369\n",
            "         ID   Is_Lead\n",
            "0  VBENBARO  0.080474\n",
            "1  CCMEWNKY  0.873154\n",
            "2  VK3KGA9M  0.081168\n",
            "3  TT8RPZVC  0.033926\n",
            "4  SHQZEYTZ  0.034605\n",
            "         ID  Is_Lead\n",
            "0  VBENBARO     0.01\n",
            "1  CCMEWNKY     0.97\n",
            "2  VK3KGA9M     0.01\n",
            "3  TT8RPZVC     0.11\n",
            "4  SHQZEYTZ     0.00\n"
          ],
          "name": "stdout"
        }
      ]
    },
    {
      "cell_type": "markdown",
      "metadata": {
        "id": "ZxzEc9LlwJVz"
      },
      "source": [
        "#6. Overall Remarks :\n",
        "*   Data contained both categorical and numerical data. Converted categories to numerical for EDA analysis.\n",
        "* Also conducted visual analysis to observe following:\n",
        " 1. IndentActive customers are more in salaried,self_employed and others as compared to entrepreneur in last 3 months.\n",
        " 2. Data is skewed towards left in Avg_Account_Balance\n",
        " 3. Target Variable is imbalanced and needed to be corrected for proper modelling. \n",
        "\n",
        "* Dataset was balanced by using undersampling technique.\n",
        "\n",
        "* Random Forest Classifier:\n",
        "  1.  Found RandomForest model had the highest AUC score(0.91) among various base models. \n",
        "  2. However, as the predicted probability was meaned in RF model upto 2 decimal places the resultant AUC score with test data was found to be ~ 0.85\n",
        "* XG Boost Classifier:\n",
        "  1. To further boost the accuracy XG Boost method was used and AUC score of 0.87 was found with the training data.\n",
        "  2. However, XG boost auc score with test data dropped to ~ 0.86 due to overfitting issues. \n",
        "\n",
        "* LGBM Classifier with stratified cross-validation:\n",
        "  1. To solve overfitting issues, LGBM model with 10-fold cross-validation was used and AUC score 0.874 with training data.\n",
        "  2. Model performed very well with test data and provided auc score of ~0.871\n",
        "\n",
        "* Hence, final model is selected as LGBM model as it is most consistent model with highest AUC score.  \n",
        "\n",
        "\n",
        "\n"
      ]
    },
    {
      "cell_type": "markdown",
      "metadata": {
        "id": "Zju146-RzvzZ"
      },
      "source": [
        "# Saving the model :"
      ]
    },
    {
      "cell_type": "code",
      "metadata": {
        "colab": {
          "base_uri": "https://localhost:8080/"
        },
        "id": "I9z0szvEzpOn",
        "outputId": "6669c4e4-fca8-4009-a747-dc3c9f33c513"
      },
      "source": [
        "import joblib\n",
        "#save the model as a pickle in a file \n",
        "joblib.dump(lgb_model,'lgb_model.pkl')"
      ],
      "execution_count": null,
      "outputs": [
        {
          "output_type": "execute_result",
          "data": {
            "text/plain": [
              "['lgb_model.pkl']"
            ]
          },
          "metadata": {
            "tags": []
          },
          "execution_count": 526
        }
      ]
    }
  ]
}